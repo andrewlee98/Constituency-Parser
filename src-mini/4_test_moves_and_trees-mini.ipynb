{
 "cells": [
  {
   "cell_type": "code",
   "execution_count": 1,
   "metadata": {},
   "outputs": [],
   "source": [
    "import pickle\n",
    "import dynet\n",
    "import os\n",
    "import numpy as np\n",
    "%run utils.ipynb\n",
    "%matplotlib inline"
   ]
  },
  {
   "cell_type": "code",
   "execution_count": 2,
   "metadata": {},
   "outputs": [
    {
     "name": "stdout",
     "output_type": "stream",
     "text": [
      "accuracy: 0.8795000035878043\n"
     ]
    }
   ],
   "source": [
    "\n",
    "if __name__ == '__main__':\n",
    "    (vocab, net_properties) = pickle.load(open('../data/mini/vocab_net.data', 'rb'))\n",
    "    network = Network(vocab, net_properties)\n",
    "    network.load('../data/mini/net.model')\n",
    "\n",
    "    writer = open('../data/mini/predictions.data', 'w')\n",
    "    feature_list = pickle.load(open( \"../data/mini/features/test.data\", \"rb\" ))\n",
    "\n",
    "    correct = 0\n",
    "    shiftstars, tps, fps, fns, shifts, tpss, fpss, fnss = 0, 0, 0, 0, 0, 0, 0, 0\n",
    "    for feature_set in feature_list:\n",
    "        pred = network.decode(feature_set[:-1])\n",
    "        writer.write(\"ground truth: \" + feature_set[-1] + \", prediction: \" + pred + \"\\n\\n\")\n",
    "\n",
    "        # count shift stars\n",
    "        if pred == \"shift star\":\n",
    "            if feature_set[-1] == \"shift star\":\n",
    "                shiftstars += 1\n",
    "                tpss += 1\n",
    "            else:\n",
    "                fpss += 1\n",
    "        if feature_set[-1] == \"shift star\" and pred != \"shift star\":\n",
    "            fnss += 1\n",
    "            shiftstars += 1\n",
    "\n",
    "        # count shifts\n",
    "        if pred == \"shift\":\n",
    "            if feature_set[-1] == \"shift\":\n",
    "                shifts += 1\n",
    "                tps += 1\n",
    "            else:\n",
    "                fps += 1\n",
    "        if feature_set[-1] == \"shift\" and pred != \"shift\":\n",
    "            fns += 1\n",
    "            shifts += 1\n",
    "\n",
    "        # total accuracy\n",
    "        if pred == feature_set[-1]:\n",
    "            correct += 1\n",
    "\n",
    "\n",
    "    print(\"accuracy: \" + str(float(correct)/len(feature_list)))\n",
    "\n",
    "#     print(\"----------------------------------------\")\n",
    "\n",
    "#     precision_ss = tpss / (tpss + fpss)\n",
    "#     recall_ss = tpss / (tpss + fnss)\n",
    "#     print(\"star precision: \" + str(precision_ss))\n",
    "#     print(\"star recall: \" + str(recall_ss))\n",
    "#     print(\"total stars: \" + str(shiftstars))\n",
    "#     print(\"star F1: \" + str( 2*(precision_ss * recall_ss) / (precision_ss + recall_ss) ))\n",
    "\n",
    "#     print(\"----------------------------------------\")\n",
    "\n",
    "#     precision_s = tps / (tps + fps)\n",
    "#     recall_s = tps / (tps + fns)\n",
    "#     print(\"shift precision: \" + str(precision_s))\n",
    "#     print(\"shift recall: \" + str(recall_s))\n",
    "#     print(\"total shifts: \" + str(shifts))\n",
    "#     print(\"shift F1: \" + str( 2*(precision_s * recall_s) / (precision_s + recall_s) ))\n",
    "\n",
    "    writer.close()"
   ]
  },
  {
   "cell_type": "code",
   "execution_count": null,
   "metadata": {},
   "outputs": [],
   "source": []
  }
 ],
 "metadata": {
  "kernelspec": {
   "display_name": "Python 3",
   "language": "python",
   "name": "python3"
  },
  "language_info": {
   "codemirror_mode": {
    "name": "ipython",
    "version": 3
   },
   "file_extension": ".py",
   "mimetype": "text/x-python",
   "name": "python",
   "nbconvert_exporter": "python",
   "pygments_lexer": "ipython3",
   "version": "3.4.3"
  }
 },
 "nbformat": 4,
 "nbformat_minor": 2
}
