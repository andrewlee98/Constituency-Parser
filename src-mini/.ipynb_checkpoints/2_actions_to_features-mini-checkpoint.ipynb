{
 "cells": [
  {
   "cell_type": "code",
   "execution_count": 6,
   "metadata": {},
   "outputs": [],
   "source": [
    "from utils import *\n",
    "import os\n",
    "import pickle\n",
    "import time"
   ]
  },
  {
   "cell_type": "code",
   "execution_count": 7,
   "metadata": {},
   "outputs": [],
   "source": [
    "def actions_to_features():\n",
    "    t0 = time.time()\n",
    "    datapath = \"../data/mini/actions/\"\n",
    "    outpath = \"../data/mini/features/\"\n",
    "    \n",
    "    train_list = []\n",
    "    test_list = []\n",
    "\n",
    "    for file in os.listdir(datapath):\n",
    "        print(file)\n",
    "        if file.startswith('.'): continue\n",
    "        # open file and save as one large string\n",
    "        data_list = pickle.load(open(datapath + file, 'rb'))\n",
    "\n",
    "         # list of lists of features\n",
    "        # final_list_read = [] # list of lists of features for debugging\n",
    "\n",
    "        final_list = []\n",
    "        for d in data_list:\n",
    "            features  = [remove_trailing(d.label)] + extract_features(d)\n",
    "            final_list.append(rearrange(features))\n",
    "#             final_list_read.append(features)\n",
    "\n",
    "\n",
    "#         if file[:2] == test: test_list.extend(final_list)\n",
    "        train_list.extend(final_list)\n",
    "    \n",
    "    train_val_cut = int(9/10 * len(train_list))\n",
    "    with open(outpath + \"train.data\", \"wb\") as f: pickle.dump(train_list[:train_val_cut], f)\n",
    "    with open(outpath + \"test.data\", \"wb\") as f: pickle.dump(train_list[:train_val_cut], f)\n",
    "    with open(outpath + \"validation.data\", \"wb\") as f: pickle.dump(train_list[train_val_cut:], f)\n",
    "    # with open(outpath + \"validation.data\")\n",
    "\n",
    "\n",
    "#     # write in readable form\n",
    "#     i = 1\n",
    "#     with open(outpath + \"features_read.txt\", \"w\") as f:\n",
    "#         for fl1, fl2 in zip(final_list, final_list_read):\n",
    "#             f.write(str(fl1[:12]) + \"\\n\")\n",
    "#             f.write(str(fl1[12:]) + \"\\n\\n\")\n",
    "\n",
    "#             f.write(str(fl2[0:1]) + \"\\n\")\n",
    "#             f.write(str(fl2[1:5]) + \"\\n\")\n",
    "#             f.write(str(fl2[5:11]) + \"\\n\")\n",
    "#             f.write(str(fl2[11:17]) + \"\\n\")\n",
    "#             f.write(str(fl2[17:23]) + \"\\n\")\n",
    "#             f.write(str(fl2[23:29]) + \"\\n\")\n",
    "#             i += 1\n",
    "#             if i == 5000: break\n",
    "    print(\"runtime: \" + str(time.time() - t0))\n"
   ]
  },
  {
   "cell_type": "code",
   "execution_count": 8,
   "metadata": {},
   "outputs": [
    {
     "name": "stdout",
     "output_type": "stream",
     "text": [
      "00_actions.data\n",
      "runtime: 69.21612453460693\n"
     ]
    }
   ],
   "source": [
    "actions_to_features()"
   ]
  },
  {
   "cell_type": "code",
   "execution_count": 9,
   "metadata": {},
   "outputs": [
    {
     "name": "stdout",
     "output_type": "stream",
     "text": [
      "words: ['<UNK>', 'predicting', 'gained', 'abroad', 'They', 'fact', '*-2', 'manages', 'York', 'volunteer', 'unjust', 'reflected', 'agents', 'customer', 'Tuesday', 'solid', 'working', 'anti-China', 'how', 'better', 'moment', 'capacity', '*-146', 'adviser', 'mend', 'are', 'perhaps', 'denying', 'real', 'ago', 'pistols', 'several', 'Lizhi', 'Beijing', 'disgorge', '15-day', 'diming', 'suggested', 'Floyd', 'Also', 'securities', 'Than', 'selling', 'industry', 'accepted', 'past', 'won', 'however', 'Edward', 'means', 'compares', 'and', 'use', 'to', 'reciting', 'Weatherly', 'Shangkun', 'disruptive', 'These', 'Dealers', 'stereotyped', 'infusion', '*T*-241', 'Plantation', 'concerned', 'down', 'you', 'Miss.', 'opposed', 'Danville', 'Big', 'Deng', 'Commerce', 'investment', 'either', 'Baton', 'institutional', 'escrow', 'Ministry', 'signs', 'give', 'Systems', 'Under', '*T*-260', 'Reddington', 'basically', 'paid', 'S.', 'Marge', 'acceded', 'employees', 'Kingdom', '*T*-250', 'over-the-counter', 'added', 'books', 'point', '*-6', 'Sr.', 'unwind', 'increase', 'Stewart', 'makers', 'changing', 'harder', 'matter', 'law', 'raised', 'handling', 'sales', 'pass', 'thing', 'Las', 'part', 'though', 'vice', 'Devon', 'launch', 'that', 'Fishman', 'demonstrators', 'Marion', 'Chafic', 'including', 'initial', 'accusing', 'La', 'important', 'contingent', '*-4', 'one-week', 'rapidly', 'cut', 'relationship', 'between', 'Labor', 'protests', 'insisted', 'manufacturing', 'restriction', 'harass', '*T*-3', 'cause', 'engaged', 'human', 'Second', 'imposed', 'limit', 'Amin', '*EXP*-1', 'States', 'self-regulatory', 'Ore.', 'suspensions', 'buck', 'approve', 'scrutinizing', 'L.', 'meeting', 'denied', 'program', 'five-day', 'price', 'Unfortunately', 'realize', 'raising', 'impart', 'Dompierre', 'Texas', 'Md.', 'less', 'described', 'economy', 'Li', 'policy', 'borders', 'issues', 'years', 'traditionally', 'her', 'Life', 'neither', 'end', 'Jeffrey', '*U*', 'timing', 'during', 'records', 'see', 'Lauderhill', 'level', 'six', 'encircling', 'White', 'article', 'Hale', 'Pace', 'There', 'Island', 'Eric', \"'m\", 'three', 'Park', 'Joseph', 'Triton', 'there', 'respond', 'controversial', 'things', 'estimates', 'concession', 'individuals', 'Program', 'form', 'given', 'felt', 'The', 'than', 'intelligence', 'amounted', 'activity', 'shoot', 'prices', 'Futures', 'phone', 'into', 'yielding', 'shrug', 'unpublished', '*-154', '*-5', 'index-related', 'Georgetown', 'sides', 'considering', 'often', 'Spence', 'turmoil', 'recently', 'with', 'firms', '`', 'extra', 'top-level', 'appears', 'telephone-information', 'states', 'Henry', 'activities', '*T*-251', 'telephone', 'James', 'Dallas', 'liberals', 'NASD', 'Traded', 'especially', 'business', 'Neither', 'Glenn', 'demonstrations', \"n't\", 'Brooklyn', 'no', '*-163', 'victim', 'seeking', '*-7', 'Assurance', 'N.', 'Clemens', 'restore', '*T*-247', 'Heights', 'New', 'players', 'bill', 'enacted', 'La.', 'Barbara', 'Federal', 'beyond', '*T*-258', 'Americans', 'admitting', 'Eugene', 'Uzi-model', 'San', 'Exchange', 'loss', 'substantial', 'party', 'I.', 'Mr.', 'While', 'believes', 'continually', 'million', 'data', 'Albert', 'Earns', '*T*-4', 'arms', 'progressive', 'Shores', 'period', 'normally', 'ascribe', 'prominently', 'also', 'failed', 'laws', 'yesterday', 'Ala', 'D.', 'suspended', 'Instead', 'Utsumi', 'seeks', 'Some', '*T*-242', 'denominator', 'GOP', 'floor', 'increasingly', 'wife', 'change', 'weeks', 'Biscayne', 'London', 'Zenith', '62%-owned', 'Hutton', 'reported', 'simply', 'common', 'reflect', 'Jr.', 'But', 'can', 'expected', 'Mount', 'impossible', 'favorable', 'never', 'Rosenblum', 'Data', 'newsworthy', 'early', 'Shearson', 'Financial', 'Palisades', 'Fernando', 'equally', '.', 'Colorado', 'About', 'automatic', 'still', 'Makato', 'stupid', 'killings', 'entrants', 'leap', 'raise', 'Glenham', 'complaint', 'Creek', 'J.', 'aircraft', 'does', 'crackdown', 'Advocates', 'Aloha', '*T*-245', 'economic', 'July', 'exchanges', 'situation', 'Morgan', 'involve', 'referred', 'language', '*-150', 'bit', 'Andrew', 'months', 'Oct.', 'Fla.', 'success', 'cash', 'key', 'tightened', 'Stirlen', 'serves', 'Richard', 'good', 'cope', 'ever', 'uses', 'up', 'seem', 'Fulbright', 'discarded', 'equity', 'Smith', 'Such', '<label>', 'Electronics', 'If', 'daily', 'statistics', 'passed', 'survey', 'by', 'Shuxian', 'offering', 'Tokyo', 'where', 'positive', 'contract', 'del', 'four-year', 'Group', 'software', 'place', 'lift', 'acknowledge', 'traders', 'derivatives', 'at', 'America', 'Colo.', 'proponents', 'hours', 'guns', '90-day', 'disapprove', 'Both', 'voted', 'lot', '*NOT*', 'Horsham', 'Mrs.', 'parties', '...', 'Fujitsu', 'Sterling', 'for', 'legislation', 'adds', 'share', 'Rep.', 'nearby', 'plays', 'Pa.', 'Market', 'specialist', 'privacy', 'traded', 'Hayne', 'Reached', 'year', 'Meinders', 'April', 'more', 'Denver', 'Beverly', 'apparently', 'inappropriate', 'three-quarters', 'return', 'gunship', 'services', '*-165', 'has', 'wage', 'blocks', 'joined', 'counterrevolutionary', 'Minneapolis', 'employers', 'in', 'leading', 'negative', 'funds', 'main', 'set', 'manner', 'C.', 'old', 'told', 'timely', 'imagine', 'racing', 'tension', 'Standard', 'John', 'academic', 'idea', 'Britain', 'Scott', 'only', 'Pitcher', 'coming', 'execute', 'markdown', 'improve', 'onslaught', 'Scowcroft', ':', 'fee', 'written', 'help', 'This', 'Knapp', 'nearly', 'touted', 'Randolph', 'Sure', 'debate', '*-3', 'inaccurately', 'urged', 'chunk', 'private', 'connection', 'Money', 'Fred', 'Ideas', 'introduction', 'deeply', 'assault', 'friends', 'wrong', 'a', 'representative', 'Alvin', 'wrongdoing', 'done', 'Rouge', 'Charles', 'Whelen', 'both', 'impression', '&', 'seriously', 'federal', 'four', 'experience', 'cost', 'reminded', 'took', 'stages', 'Delwin', 'Despite', 'insidious', 'barrier', 'Much', 'Xiaoping', 'instead', 'casting', 'hire', 'meaning', 'later', 'Hills', 'international', 'Air', 'Dell', '*T*-252', 'outside', '-LCB-', 'husband', 'big', 'Felten', 'Valley', 'long', 'Sandra', 'so', 'conditions', 'quickly', '*-164', '*RNR*-1', 'fined', 'Foster', 'R.', 'Except', 'Zayed', 'Rockwell', 'when', 'taken', 'should', 'fond', 'minister', 'Shortly', 'Longwood', 'expensive', 'Louis', 'vote', 'B.', 'exchange', 'American-style', 'Norwick', 'question', 'targeting', 'measure', 'findings', 'Many', 'unethical', 'playing', '*EXP*-2', 'sought', '*T*-244', 'Hiroshi', 'plunge', 'surged', 'Grant', 'expelled', 'events', 'N.Y.', 'beautiful', 'stalemate', 'Insurance', 'out', '100-share', 'choose', 'skyward', 'without', 'after', 'congressional', 'offer', 'replacement', 'hefty', 'Derel', 'spokesman', 'FT-SE', 'Keehn', 'Northy', 'Estates', 'attract', 'very', 'those', 'spending', 'chief', 'caused', 'ordering', 'training-wage', 'pay', 'reporting', 'company', 'away', 'asking', 'what', 'We', 'Finance', 'SDI', 'continue', 'directly', 'index-arbitrage', 'according', 'Lure', 'Dahl', 'minimum', '*', 'summer', 'next', 'smiles', 'resist', 'low-altitude', 'leave', 'Camille', 'license', 'remained', '<null>', '*T*-246', '*ICH*-4', 'Deborah', 'official', 'House', 'replete', 'Nilson', 'Bank', 'lately', '*-160', 'ca', 'principal', 'What', 'investors', 'controls', 'machine-gun-toting', 'will', ';', 'Chinese', 'face', 'envoy', 'platitudes', 'arrived', 'elimination', 'further', 'voters', 'American', 'stock', 'record-keeping', 'an', 'higher-salaried', 'Democratic', 'Relations', 'transactions', 'visited', 'Midvale', 'unions', 'suspend', 'domestic', 'unmarked', 'examination', 'Lake', 'Why', 'they', 'labor', 'used', 'Without', 'be', 'size', 'registered', 'half-hour', 'Board', 'received', 'association', 'visit', 'Officials', 'administrations', 'higher', 'Providence', 'Fang', 'futures', 'gone', '*T*-243', 'Options', 'jeopardizing', 'Gerard', 'Martin', 'jobs', 'deteriorated', \"'ve\", 'positions', 'difficult', 'boost', 'since', 'Index-arbitrage', 'International', 'instruments', 'British', 'surprising', 'think', 'operator', 'houses', 'not', 'Frankly', 'Ann', 'transacting', 'reaped', 'met', 'Graduates', 'Foreign', 'earnings', 'encounter', 'packages', 'Osaka', 'needed', 'N.J.', 'Muscolina', 'loaded', 'salaries', '%', 'must', 'Carson', 'marching', 'undiplomatic', 'want', 'Rabia', '30-day', 'one-year', 'following', 'having', 'St.', 'Government', 'manufacturers', 'unrestricted', 'going', 'president', 'accommodate', 'Moreover', 'Ronald', 'who', 'series', 'An', 'Asada', 'Democrats', 'evening', 'begins', 'editorial', 'Ratings', 'Express', 'rules', 'microcomputers', 'Japan', '*T*-254', 'while', 'find', 'Williams', 'Takuma', 'did', 'he', 'June', 'industrial', 'senior', 'example', 'tree', 'way', 'National', 'Spitler', 'resistance', 'noted', 'views', 'just', 'Jalaalwalikraam', 'regard', 'President', 'P.', '*-158', 'perspective', 'Mark', 'Prof', 'opinion', 'believe', 'sold', 'stopped', 'Ltd.', 'Stuart', 'Chiodo', 'furor', 'community', 'actively', 'salary', 'Sandberg', 'declined', 'Wadsworth', 'eight-month', 'watch', '*RNR*-2', 'Colonsville', 'jointly', 'Science', 'skills', 'Brian', 'stock-index', 'leaders', 'negatives', 'Thomas', 'whether', 'operators', 'probably', 'Securities', 'Saturday', 'page-one', 'current', 'already', 'Columbia', 'youth', 'such', 'two', 'pegged', 'dissident', 'defined', 'plans', 'seems', '*?*', '10-day', 'Miami', 'Cotran', 'sets', 'accounts', 'Utah', 'five', 'Rey', 'trades', 'indicated', 'money', 'worship', 'Brent', 'ticket', 'Birmingham', '*-161', 'vacations', 'Wednesday', 'adding', 'clients', 'ordered', 'unfair', 'foreign', 'exploit', 'changes', 'fault', 'one-month', 'images', 'futures-related', 'firm', 'may', 'tenfold', 'came', 'reference', 'Maybe', '*T*-1', 'parking', 'relations', 'half', 'need', 'Enright', 'possible', 'role', 'limited-partnership', 'rights', 'prevent', 'new', 'necessary', 'factory', 'loom', 'Otero', 'Canada', 'In', 'Co.', \"''\", 'lifting', 'training', 'Senate', 'back', 'opponents', 'trying', 'Corp.', 'totaled', 'alleged', 'companies', 'anybody', 'pointed', 'Higher', 'Chicago-style', 'blocked', 'his', 'disciplined', 'machine', 'Fountain', 'session', '*ICH*-2', 'today', 'define', 'Firms', 'Monday', 'Jackson', 'if', 'poor', 'billion', 'own', 'covers', 'responded', 'conduit', 'attack', 'blacks', 'expressed', 'difference', 'tapes', 'counter', 'currently', 'global', 'W.', 'backed', '-RRB-', 'unjustified', 'Employers', 'average', 'regrettable', 'mistakes', 'Russo', 'week', 'managers', 'listing', 'Your', '$', 'settlement', 'barking', 'critics', 'Roukema', 'least', 'Springs', 'fashion', 'I', 'spring', 'Valrico', 'George', 'government-funded', 'far', 'ended', 'nickel', 'members', 'traveling', 'none', 'welcome', 'performance', 'earlier', 'speaks', 'Lehman', 'Wash.', 'citizen', 'Prater', 'volume', 'J.L.', '-RCB-', 'world', 'something', 'Nev.', 'major', 'consented', 'based', 'Yamamoto', 'Miller', 'hundreds', 'military', 'ambassador', 'violations', 'killed', 'public', 'consumers', 'Rita', 'or', 'said', 'markup', 'Francisco', 'attractions', 'two-week', 'insistence', 'which', 'providing', 'introduce', 'screwed', 'differ', 'passing', 'clear', 'William', 'small', 'Force', '*ICH*-1', 'problem', 'Ridgefield', 'nine', 'Preston', 'Adopting', '*-156', 'California', 'United', 'we', 'puts', 'was', 'workers', '*-157', '*T*-249', 'Renee', 'acceptance', 'forgotten', 'is', 'McFall', 'been', 'reprove', 'rifles', 'maintained', 'Mona', 'clicked', 'close', 'breaking', 'Several', 'avoid', 'strategies', 'pulled', 'Dec.', 'Deryck', 'It', 'all', 'implication', 'rebellion', 'Even', 'Angier', '*-152', 'growing', 'she', 'ability', 'praised', 'financial', 'compensation', 'result', 'few', 'Mercer', 'same', 'David', 'trading', 'Nixon', '*-162', 'large', 'it', 'Robert', 'crisis', 'Marietta', 'Cutrer', 'Arlington', 'Karl', 'overlap', 'manager', 'Phipps', 'finance', '*T*-2', '*-149', ',', 'Victor', 'mechanisms', 'excessive', 'confirmed', 'Kenneth', 'professionals', 'included', 'codified', 'hurt', 'through', 'sophisticated', 'thousands', 'U.S.', 'lowest', 'many', '*-166', '*-159', 'equipment', 'Marchese', 'So', 'Still', 'authority', 'Maughan', 'subminimum', 'Association', 'rise', 'stakes', 'minority', 'here', 'Boulder', 'heads', 'former', 'index-options', 'catch-up', 'final', 'principals', 'information', 'capital', 'over', 'Chamber', 'children', '--', 'Minn.', 'administration', 'City', 'Harold', 'spouse', 'concern', 'complaining', 'allegedly', 'hurdles', 'host', 'effects', \"'\", 'Rankin', '*T*-257', 'addition', 'residence', 'speaking', 'insurance', 'their', 'liquid', 'single', 'assumption', 'Gerhard', 'Red', 'Mo.', 'force', 'banquet', 'Salomon', 'contacts', 'Bonnell', 'quarter', 'Industrial', 'some', 'made', 'hour', 'as', '``', '*T*-259', 'most', 'improper', 'agreed', 'plainclothes', 'barred', 'computer-driven', 'Commonwealth', 'leader', 'And', 'foreign-led', 'last', 'nor', 'Davis', 'afterwards', 'now', 'Yet', 'soldiers', 'offices', 'Calif.', 'inaccurate', 'view', 'forgiven', 'member', 'officials', 'get', 'According', 'First', 'Klein', 'Vargas', 'Sun', 'police', 'net', 'compound', 'among', 'its', 'Anthony', 'young', 'Stanley', 'previous', 'improvement', 'issue', 'worker', 'Curry', 'A.', 'investor', 'Congress', 'were', 'embassy', 'the', 'Lane', 'this', 'Glendale', 'requests', '?', 'Boorse', 'wary', 'minor', 'Gaithersburg', 'them', 'sanctions', 'know', 'He', 'differences', 'details', 'security-type', 'perpetuates', 'list', 'getting', 'Vegas', 'greatest', 'closely', 'Veselich', 'national', 'Two', 'number', 'mininum-wage', '-LRB-', 'Embassy', 'accept', 'Orleans', 'Chicago', '382-37', 'startling', 'diplomats', 'tense', 'supreme', 'of', \"'d\", 'regret', 'brief', 'Hermitage', 'everything', 'Among', 'purchases', 'confidence', 'Marina', 'ideological', 'employed', 'forced', 'say', 'Chinese-American', \"'s\", 'regulators', 'policies', 'Leigh', '3-4', 'your', 'job', 'involved', 'do', 'distasteful', 'W.N.', 'Canepa', 'but', 'Adams', 'Premier', 'reached', 'chairman', 'from', 'organization', '84-month', 'complaints', 'Nesconset', 'suspension', 'Cross', 'fine', 'thought', '*-1', 'sources', 'Bew', 'proposed', 'doing', 'bout', 'days', 'perceptions', 'T.', 'drove', '*T*-255', 'respect', 'swing', 'Bridgeville', 'A', 'previously', 'Bush', 'age', 'argued', 'group', 'talks', 'Ethel', 'Peng', 'brokerage', 'emigrate', 'too', 'take', 'Mont', 'Stephanie', 'AC-130U', 'nation', 'have', 'weapon', 'Del.', 'Jamaica', 'government-certified', 'Leroy', 'Chase', 'Pat', '90-cent-an-hour', 'lead', 'practices', 'first', 'Francis', 'Sanderoff', 'opportunity', 'work', 'compared', 'refuge', 'joint', 'navigation', 'owed', 'eternal', 'enough', 'requirements', 'toast', 'notably', 'Yang', 'soon', 'trigger', 'Kane', 'Bronx', 'sizable', 'six-month', '*T*-256', 'security', 'becoming', 'F.', 'Aurora', 'comment', '*-155', 'Crane', 'even', '<num>', '*-151', 'losses', 'markets', 'advertising', '*T*-253', 'China', 'other', 'option', 'on', 'because', 'another', 'Russel', 'our', 'mistake', 'Wayne', 'surge', 'could', 'Swearingen', 'Barfield', 'ideas', 'helping', 'Killeen', 'had', 'one', 'Cole', 'cars', 'Orville', 'Times-Stock', 'people', '*T*-248', 'stocks', 'participation', 'September', 'N.J', 'customers', 'M.', 'Clinton', 'Coconut', 'crash', 'Najarian', 'filed', 'bend', 'Michael', 'retained', 'call', '*-153', 'black', 'G.', 'Japanese', 'survival', 'home-market', 'any', 'Mich.', 'represented', 'Houston', 'times', 'imply', 'before', 'institutions', 'off', 'subsidiary', 'compliance', 'office', 'hoped', 'Monchecourt', 'Merrick', 'Rae', 'underlying', 'harsh', 'contracts', 'Navy', 'fall', 'Stock', 'about', 'damaged', 'index', 'two-year', 'Policy', 'occurred', 'K.', 'Rolling', '#', 'high-level', 'friendship', 'arbitrage', 'time', 'market', 'looking', 'impact', 'these', 'compromise', 'rectified', 'plan', 'Ill.', 'popular', 'would', 'reps', 'got', 'guards', 'unofficial', '*-147', 'Republicans', 'Inc.', 'Wong', 'fought']\n",
      "\n",
      "\n",
      "actions: ['binary FRAG', 'unary PRP', 'unary JJR', 'unary .', 'unary NNPS', 'unary RBS', 'unary :', 'unary VBZ', 'unary WRB', 'unary NNS', 'binary PRN', 'unary RRB', 'unary VBG', 'unary $', 'binary VP', 'unary CD', 'binary WHADVP', 'binary SBAR', 'unary SBAR', 'unary VB', 'unary VBP', 'binary SBARQ', 'unary WDT', 'unary WHNP', 'unary WHADVP', 'unary PDT', 'unary ADVP', 'unary DT', 'binary S', 'unary NP', 'unary TO', 'unary RBR', 'binary ADJP', 'binary QP', 'unary PRT', 'unary NN', 'unary WP', 'unary MD', 'binary NP', \"unary ''\", 'unary NNP', 'unary CC', 'binary NX', 'shift star', 'unary EX', 'unary ,', 'unary RB', 'unary POS', 'unary ADJP', 'unary #', 'unary JJ', 'unary PRP$', 'unary PP', 'unary RP', 'unary VBD', 'binary SINV', 'unary JJS', 'unary NONE', 'unary NX', 'unary FRAG', 'unary VP', 'binary SQ', 'binary ADVP', 'binary PP', 'unary S', 'shift', 'unary LRB', 'unary VBN', 'unary ``', 'unary IN']\n",
      "\n",
      "\n",
      "labels: ['-LRB-', 'VBG', 'NNPS', 'SQ', 'RB', 'SBAR', 'VP', '-RRB-', 'TO', ':', '<null>', 'RRB', '``', 'PDT', 'WHNP', '#', 'VBP', 'WRB', 'MD', '$', 'NNP', 'VB', \"''\", 'NN', 'NX', 'PP', 'NONE', 'PRP$', 'SBARQ', 'WP', 'SINV', 'CD', 'VBN', 'WHADVP', 'NP', 'POS', '.', 'PRN', 'RBS', 'LRB', ',', '-NONE-', 'JJS', '<word>', 'ADVP', 'DT', 'RP', 'PRT', 'ADJP', 'VBD', 'IN', 'VBZ', 'JJR', 'RBR', 'S', 'JJ', 'WDT', 'PRP', 'CC', 'EX', 'NNS', 'QP', 'FRAG', '<UNK>']\n",
      "\n",
      "\n"
     ]
    }
   ],
   "source": [
    "vocab = Vocab(\"../data/mini/features/validation.data\")\n",
    "print(\"words: \" + str(vocab.words) + \"\\n\\n\")\n",
    "print(\"actions: \" + str(vocab.output_acts) + \"\\n\\n\")\n",
    "print(\"labels: \" + str(vocab.feat_acts) + \"\\n\\n\")"
   ]
  },
  {
   "cell_type": "code",
   "execution_count": 10,
   "metadata": {},
   "outputs": [
    {
     "name": "stdout",
     "output_type": "stream",
     "text": [
      "139361\n"
     ]
    }
   ],
   "source": [
    "print(len(pickle.load(open(\"../data/mini/features/train.data\", 'rb'))))"
   ]
  },
  {
   "cell_type": "code",
   "execution_count": null,
   "metadata": {},
   "outputs": [],
   "source": []
  }
 ],
 "metadata": {
  "kernelspec": {
   "display_name": "Python 3",
   "language": "python",
   "name": "python3"
  },
  "language_info": {
   "codemirror_mode": {
    "name": "ipython",
    "version": 3
   },
   "file_extension": ".py",
   "mimetype": "text/x-python",
   "name": "python",
   "nbconvert_exporter": "python",
   "pygments_lexer": "ipython3",
   "version": "3.4.3"
  }
 },
 "nbformat": 4,
 "nbformat_minor": 2
}
