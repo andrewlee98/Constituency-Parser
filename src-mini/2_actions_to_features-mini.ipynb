{
 "cells": [
  {
   "cell_type": "code",
   "execution_count": 1,
   "metadata": {},
   "outputs": [],
   "source": [
    "%run utils.ipynb\n",
    "import os\n",
    "import pickle\n",
    "import time"
   ]
  },
  {
   "cell_type": "code",
   "execution_count": 2,
   "metadata": {},
   "outputs": [],
   "source": [
    "def actions_to_features():\n",
    "    t0 = time.time()\n",
    "    datapath = \"../data/mini/actions/\"\n",
    "    outpath = \"../data/mini/features/\"\n",
    "    \n",
    "    train_list = []\n",
    "    test_list = []\n",
    "\n",
    "    for file in os.listdir(datapath):\n",
    "        print(file)\n",
    "        if file.startswith('.'): continue\n",
    "        # open file and save as one large string\n",
    "        data_list = pickle.load(open(datapath + file, 'rb'))\n",
    "\n",
    "         # list of lists of features\n",
    "        # final_list_read = [] # list of lists of features for debugging\n",
    "\n",
    "        final_list = []\n",
    "        for d in data_list:\n",
    "            features  = [remove_trailing(d.label)] + extract_features(d)\n",
    "            final_list.append(rearrange(features))\n",
    "#             final_list_read.append(features)\n",
    "\n",
    "\n",
    "#         if file[:2] == test: test_list.extend(final_list)\n",
    "        train_list.extend(final_list)\n",
    "    \n",
    "    train_val_cut = int(9/10 * len(train_list))\n",
    "    with open(outpath + \"train.data\", \"wb\") as f: pickle.dump(train_list[:train_val_cut], f)\n",
    "    with open(outpath + \"test.data\", \"wb\") as f: pickle.dump(train_list[:train_val_cut], f)\n",
    "    with open(outpath + \"validation.data\", \"wb\") as f: pickle.dump(train_list[train_val_cut:], f)\n",
    "    # with open(outpath + \"validation.data\")\n",
    "\n",
    "\n",
    "#     # write in readable form\n",
    "#     i = 1\n",
    "#     with open(outpath + \"features_read.txt\", \"w\") as f:\n",
    "#         for fl1, fl2 in zip(final_list, final_list_read):\n",
    "#             f.write(str(fl1[:12]) + \"\\n\")\n",
    "#             f.write(str(fl1[12:]) + \"\\n\\n\")\n",
    "\n",
    "#             f.write(str(fl2[0:1]) + \"\\n\")\n",
    "#             f.write(str(fl2[1:5]) + \"\\n\")\n",
    "#             f.write(str(fl2[5:11]) + \"\\n\")\n",
    "#             f.write(str(fl2[11:17]) + \"\\n\")\n",
    "#             f.write(str(fl2[17:23]) + \"\\n\")\n",
    "#             f.write(str(fl2[23:29]) + \"\\n\")\n",
    "#             i += 1\n",
    "#             if i == 5000: break\n",
    "    print(\"runtime: \" + str(time.time() - t0))\n"
   ]
  },
  {
   "cell_type": "code",
   "execution_count": 3,
   "metadata": {},
   "outputs": [
    {
     "name": "stdout",
     "output_type": "stream",
     "text": [
      "00_actions.data\n",
      "runtime: 68.89200234413147\n"
     ]
    }
   ],
   "source": [
    "actions_to_features()"
   ]
  },
  {
   "cell_type": "code",
   "execution_count": 5,
   "metadata": {},
   "outputs": [
    {
     "name": "stdout",
     "output_type": "stream",
     "text": [
      "words: ['<UNK>', 'elimination', 'mistake', 'moment', 'unrestricted', 'Earns', 'negatives', 'Several', 'NASD', 'perhaps', 'Financial', 'while', 'Adams', 'Pitcher', 'Neither', 'alleged', 'admitting', 'no', 'touted', 'Morgan', 'fought', 'Dallas', 'return', 'part', 'Charles', 'voted', 'Data', 'respect', 'machine-gun-toting', 'J.L.', 'Salomon', 'diming', 'Nesconset', ':', 'who', 'Britain', 'program', 'gone', 'Leigh', 'Instead', 'debate', 'June', 'top-level', 'reaped', 'foreign', 'number', 'relations', 'three-quarters', 'too', 'Futures', 'still', 'I', 'survival', 'share', 'up', 'GOP', 'Ethel', 'Crane', 'nine', 'success', '$', 'wrong', 'barrier', 'fine', 'denying', 'Beijing', 'dissident', 'Pace', 'Hills', 'subminimum', 'April', 'disciplined', 'been', 'looking', 'Graduates', 'help', 'employers', 'unfair', 'engaged', 'discarded', '*-155', 'mininum-wage', 'public', 'plans', 'signs', 'rifles', 'nearby', 'Employers', 'defined', 'Ltd.', 'Otero', 'price', 'Options', 'critics', 'Marchese', 'Fla.', 'representative', 'option', 'Rosenblum', 'Robert', 'Reached', 'professionals', 'time', '*T*-250', '*T*-255', '*ICH*-4', 'however', 'where', 'Adopting', 'probably', 'earlier', 'overlap', 'salaries', 'drove', 'platitudes', 'raise', 'Your', 'fact', 'Midvale', 'compensation', 'children', 'told', 'unpublished', 'unjust', 'Ratings', 'attack', 'marching', 'congressional', \"'\", 'catch-up', 'killed', 'Deryck', 'cost', 'La.', 'group', 'reciting', 'because', 'Miami', 'investors', 'problem', 'Policy', 'L.', 'our', 'means', 'point', 'boost', 'index-options', 'Boulder', 'than', 'had', 'if', 'customer', 'codified', 'nearly', 'security', 'Killeen', 'first', 'Rae', 'casting', 'Uzi-model', 'should', 'excessive', 'Klein', 'exchange', 'Systems', 'Also', 'possible', 'Thomas', 'Rolling', 'plunge', 'never', 'came', 'Commerce', 'states', 'traditionally', 'major', 'funds', 'has', 'Bank', 'insistence', \"n't\", 'Arlington', 'Dealers', 'Xiaoping', 'company', '*T*-247', 'B.', '*T*-257', '*-161', 'anybody', 'McFall', 'six', 'Tuesday', 'office', '*T*-253', 'Program', 'own', 'administration', 'connection', 'must', 'Marietta', 'three', 'said', 'recently', 'rebellion', 'remained', 'believe', 'David', 'restore', 'inappropriate', 'Carson', 'Such', 'get', 'not', 'growing', 'M.', 'when', 'know', 'arms', 'compound', 'Danville', 'Rockwell', 'approve', 'September', 'Commonwealth', \"'ve\", '*T*-251', 'think', 'Corp.', 'serves', 'hours', 'acceptance', 'though', 'coming', 'listing', 'Miller', 'Mont', 'Japanese', 'also', 'black', 'call', 'old', 'Much', 'opposed', 'reminded', 'hundreds', 'stages', 'traders', '*T*-243', 'stalemate', 'another', 'W.', 'changing', 'they', 'Marge', 'praised', 'Derel', 'Mercer', 'visited', 'perspective', 'registered', 'continually', 'new', 'through', 'opportunity', 'have', 'economic', 'described', '*T*-3', 'jobs', '*T*-248', 'level', 'administrations', 'needed', 'Gaithersburg', 'spouse', 'limited-partnership', 'Fang', 'international', 'police', 'index-arbitrage', 'disruptive', 'solid', 'suspend', '*-160', 'what', 'Sanderoff', 'Senate', 'changes', 'few', 'stocks', 'begins', 'Alvin', 'adviser', 'bill', 'enough', 'Finance', 'Spitler', 'hoped', 'swing', '*-6', 'won', 'Aurora', 'concession', 'minister', 'backed', 'better', 'question', 'Li', 'his', 'plan', 'parking', 'role', 'law', 'unwind', 'totaled', 'Park', 'acknowledge', 'stakes', 'manner', 'trigger', 'Najarian', 'Lure', 'principal', 'industrial', 'her', 'minimum', 'telephone-information', 'apparently', 'vacations', 'improvement', 'harsh', 'quickly', 'Hutton', 'compared', '.', 'denied', 'Minn.', 'Firms', 'forced', 'resist', 'economy', 'States', 'N.Y.', 'manufacturing', 'hire', 'Two', 'acceded', 'two', 'United', 'substantial', 'imply', 'work', 'cash', 'Hiroshi', 'Stephanie', 'timely', '*T*-246', 'out', 'Veselich', 'intelligence', 'ended', 'expelled', 'Group', 'continue', 'Cotran', 'Kane', '*T*-258', 'of', 'them', 'Jr.', 'watch', 'shrug', '*RNR*-1', 'Phipps', 'Monday', 'ago', 'Bridgeville', '*-158', 'I.', 'diplomats', 'least', 'pass', 'academic', 'progressive', 'traveling', 'rectified', 'week', 'consumers', 'AC-130U', 'Prof', '84-month', 'can', 'leap', 'pay', 'Norwick', 'Yamamoto', 'helping', '*-1', 'Sure', '*-3', 'Spence', 'arrived', 'confirmed', '3-4', 'Plantation', 'Glenham', 'differences', 'hefty', 'purchases', 'tree', 'same', 'basically', 'was', 'one', '*-159', 'Boorse', 'closely', 'Rita', 'Rep.', 'ideological', 'pistols', 'directly', 'rules', '*NOT*', 'maintained', 'introduction', 'Wadsworth', 'Republicans', 'Ministry', 'high-level', 'Harold', 'Brooklyn', 'tapes', 'seeking', 'Bush', 'consented', 'according', 'Marion', 'use', 'institutional', 'matter', 'host', 'investment', 'examination', 'accept', 'young', 'performance', 'Chase', 'today', '*-151', '*EXP*-1', 'Heights', 'International', 'plainclothes', 'into', 'leave', 'friendship', 'off', 'principals', '*-163', 'James', 'beautiful', 'job', 'salary', 'Shearson', 'reflected', 'P.', 'California', 'period', 'Canepa', 'either', 'statistics', 'half-hour', 'gained', 'Houston', 'believes', 'Democrats', 'lot', 'violations', 'fond', 'killings', 'Dahl', 'Index-arbitrage', 'Brent', 'noted', 'ticket', 'handling', 'higher', 'necessary', 'Orleans', 'navigation', 'market', 'Peng', 'Big', 'joined', 'Second', '*', 'John', 'C.', 'asking', 'blacks', '*-166', 'all', 'cut', 'four-year', 'exploit', 'timing', 'Fulbright', 'strategies', 'mend', 'stereotyped', 'one-week', 'activity', '*T*-249', 'days', 'this', 'rights', 'transacting', 'two-year', 'language', 'Deborah', 'expected', 'felt', '*T*-254', 'summer', 'surge', 'member', 'lifting', '90-day', 'These', 'practices', 'Reddington', 'spending', 'Shuxian', 'concern', 'thing', 'place', 'Industrial', 'individuals', 'Pa.', \"''\", 'barred', 'key', 'While', 'predicting', 'meeting', 'Kenneth', 'for', 'five-day', 'Renee', 'reps', 'four', 'ordering', 'global', 'Stanley', 'small', 'encircling', 'which', 'wage', 'on', 'embassy', 'guards', 'concerned', 'Scowcroft', 'factory', 'Aloha', 'that', 'common', 'limit', 'something', 'contract', 'records', 'Moreover', 'capacity', 'such', 'liquid', 'Smith', 'N.J.', 'Andrew', 'Curry', 'Ridgefield', 'Ala', 'big', 'skills', 'Mona', 'their', 'Md.', 'party', 'vote', 'beyond', 'launch', '-RCB-', 'Dell', 'Wash.', 'Eric', 'offices', '*U*', 'So', 'initial', 'inaccurate', 'hurt', 'images', 'Rankin', 'pegged', 'addition', 'he', 'nation', 'laws', 'compliance', 'heads', 'implication', 'companies', 'turmoil', 'owed', 'included', 'Kingdom', 'seems', '``', 'list', 'take', 'failed', 'playing', 'Makato', 'with', 'suggested', 'Albert', '*RNR*-2', 'accounts', 'Michael', 'futures-related', 'survey', 'government-certified', 'both', 'volume', 'furor', '&', '*T*-2', 'stupid', 'regrettable', 'popular', 'real', '*-164', 'forgotten', 'specialist', 'Enright', 'five', 'R.', 'fall', 'be', 'regulators', 'automatic', 'Association', 'Springs', 'Roukema', 'involve', 'following', 'Anthony', 'half', '*T*-242', 'workers', 'Island', 'Jeffrey', '10-day', 'Longwood', 'gunship', 'firm', 'trying', 'financial', 'Leroy', 'situation', 'It', 'sanctions', 'but', 'previously', 'sold', 'Lauderhill', 'ideas', 'agreed', 'controls', 'how', 'screwed', '*T*-252', 'are', 'give', 'fashion', 'retained', 'requests', 'back', 'form', 'Sterling', 'unjustified', 'K.', 'attractions', 'Muscolina', 'Joseph', 'lately', 'next', 'conditions', 'quarter', 'complaining', 'trading', 'impart', 'books', 'Bew', 'world', 'nickel', 'Air', 'Louis', 'federal', 'Oct.', 'Miss.', 'domestic', 'greatest', 'fee', 'inaccurately', 'daily', 'providing', 'between', 'He', 'crash', 'minority', 'investor', 'added', 'regard', 'Market', '*-4', '*T*-1', 'argued', 'Estates', 'Except', 'assault', 'Richard', 'since', 'she', 'perpetuates', 'do', 'National', 'In', 'industry', 'Jalaalwalikraam', 'worker', 'Co.', 'involved', 'sales', 'Felten', 'Colo.', 'Calif.', 'underlying', 'eight-month', 'years', 'London', 'Davis', 'national', 'restriction', 'more', 'We', 'offer', 'Hale', 'worship', 'ascribe', 'sizable', 'bit', 'age', 'want', 'Gerhard', '-LCB-', 'bend', 'sets', 'ambassador', 'San', 'Japan', 'White', 'editorial', '*-149', 'Barbara', 'unmarked', 'accepted', 'Nev.', 'China', 'met', 'activities', 'reprove', 'abroad', 'tense', 'adds', 'at', 'organization', 'borders', 'Rabia', '-LRB-', 'proponents', 'nor', 'targeting', 'Wong', 'Electronics', 'Embassy', 'improper', 'Chicago', 'as', 'newsworthy', 'Russo', 'complaint', 'microcomputers', 'official', '--', 'execute', 'Ill.', 'taken', 'Cross', 'imposed', 'Chamber', 'The', 'Grant', 'Jamaica', 'Prater', 'employed', 'favorable', 'insidious', 'escrow', 'Knapp', '<num>', 'offering', 'it', 'main', 'surprising', '*-2', 'Birmingham', 'license', 'Government', 'Mr.', 'further', 'improve', 'higher-salaried', 'About', 'weeks', 'Las', 'loom', 'passing', 'weapon', 'operators', 'Edward', 'participation', 'Jackson', 'resistance', 'Stock', 'clear', 'onslaught', 'Orville', 'minor', 'reached', 'prevent', 'welcome', '*-150', 'would', 'see', 'done', 'uses', 'fined', 'caused', 'traded', 'seeks', 'respond', 'manager', 'Triton', 'Delwin', 'measure', 'Zenith', 'compromise', 'Force', '*T*-241', 'victim', 'settlement', 'Denver', 'refuge', \"'d\", 'two-week', 'plays', 'down', 'meaning', 'operator', 'Barfield', 'contingent', '*-146', 'normally', 'Inc.', 'Chafic', 'poor', 'Shortly', ';', 'N.', 'Nilson', 'simply', 'could', 'Russel', 'Board', 'index', 'guns', 'leader', 'those', 'transactions', 'face', 'pulled', 'considering', 'previous', 'choose', 'issues', 'large', 'lowest', 'Chinese', 'suspended', 'There', 'Sr.', 'record-keeping', 'Money', 'working', 'Biscayne', 'may', 'blocked', 'British', 'Premier', 'A', 'Baton', 'urged', 'former', 'firms', '*T*-4', 'F.', 'advertising', 'say', '<null>', 'low-altitude', 'privacy', 'rapidly', 'damaged', 'especially', 'loss', 'impossible', 'Chinese-American', 'Amin', 'thought', 'chairman', 'issue', 'Swearingen', '-RRB-', '*T*-245', 'Lizhi', 'chief', 'del', 'jeopardizing', 'military', 'Express', '*T*-259', 'insurance', 'tenfold', 'Texas', 'houses', 'already', 'did', 'avoid', '*-165', 'regret', 'vice', 'Fountain', 'instruments', 'views', 'Francis', 'Maughan', 'equally', 'visit', 'Weatherly', 'idea', 'perceptions', 'replacement', 'markdown', 'machine', 'Stirlen', 'surged', 'one-month', '`', 'without', 'long', 'America', 'set', '*-153', 'received', 'Clemens', 'Lehman', 'forgiven', 'SDI', '*T*-256', 'Valrico', 'compares', '%', 'example', 'is', 'several', 'Sandra', 'Fernando', 'currently', 'legislation', '*ICH*-2', 'Brian', 'months', 'banquet', 'going', 'breaking', 'before', 'leading', 'average', 'skyward', 'Insurance', '62%-owned', '100-share', 'far', 'everything', 'Martin', '#', 'introduce', 'Deng', 'Higher', 'unions', 'times', 'business', 'American-style', 'important', 'enacted', 'page-one', 'Whelen', 'reporting', 'eternal', 'Northy', 'Some', 'ca', '*ICH*-1', 'Officials', 'arbitrage', 'the', '*-152', 'self-regulatory', 'events', 'policies', 'crackdown', '*EXP*-2', 'difficult', 'getting', 'loaded', 'good', 'information', 'Victor', 'harder', 'officials', 'capital', 'St.', '90-cent-an-hour', 'Henry', 'result', 'one-year', 'Times-Stock', 'Preston', 'complaints', 'Hayne', 'Valley', 'given', 'raising', 'lift', 'Mrs.', 'early', 'so', 'phone', 'agents', 'later', 'senior', '30-day', 'prices', 'Glenn', 'Even', 'packages', 'people', \"'m\", 'Wednesday', 'Keehn', 'having', ',', 'deteriorated', '*-7', 'American', 'extra', 'Pat', 'racing', 'envoy', 'its', 'Chicago-style', 'opinion', 'need', '*-157', 'made', 'accusing', 'Eugene', 'some', 'imagine', 'from', 'Than', 'contacts', 'J.', 'tension', 'requirements', 'allegedly', 'Francisco', 'unofficial', 'adding', 'or', 'community', 'Sun', 'session', 'William', 'Congress', 'They', 'ordered', 'bout', 'supreme', 'hurdles', 'markup', 'Canada', '*-156', 'year', 'futures', 'will', 'wife', 'during', 'less', 'contracts', 'shoot', 'July', 'passed', 'Federal', 'find', 'Cole', 'Chiodo', 'Glendale', 'government-funded', 'other', 'aircraft', 'mistakes', 'If', 'But', 'positive', 'demonstrations', 'effects', '...', 'series', 'seriously', 'proposed', 'home-market', 'parties', 'jointly', 'replete', 'findings', 'Maybe', 'startling', 'neither', 'to', 'Meinders', 'makers', 'final', 'close', 'human', 'Randolph', 'Under', 'Mark', 'among', 'Floyd', 'an', 'markets', 'Advocates', 'by', 'based', 'Merrick', '*T*-260', 'many', 'rise', 'earnings', '*-5', 'assumption', 'often', 'floor', 'N.J', 'D.', 'sources', 'Sandberg', 'Mount', 'According', 'And', 'Clinton', 'This', 'youth', 'equity', 'estimates', 'afterwards', 'barking', 'Foreign', 'relationship', 'index-related', 'appears', 'Traded', 'sophisticated', 'Democratic', 'brief', 'managers', 'stock-index', 'Bronx', 'Osaka', 'What', 'these', 'friends', 'you', 'Asada', 'notably', 'confidence', 'Foster', 'customers', 'Utah', 'got', 'attract', 'pointed', 'suspensions', 'Lane', 'infusion', 'Columbia', 'spokesman', 'ever', 'cope', 'private', 'joint', 'President', 'now', 'there', 'Securities', 'distasteful', 'Creek', 'expensive', 'stopped', 'evening', 'Nixon', 'Assurance', 'yielding', 'soldiers', 'brokerage', 'Unfortunately', 'Karl', 'Coconut', 'Providence', 'Fishman', 'T.', 'your', 'billion', 'Saturday', 'even', 'Vargas', 'City', 'fault', 'Rey', 'anti-China', 'disgorge', 'Dec.', 'selling', 'reflect', 'seem', 'Takuma', 'Yang', 'Hermitage', 'voters', 'FT-SE', 'Navy', 'scrutinizing', 'about', 'training', 'used', 'buck', 'conduit', 'comment', 'Stewart', 'spring', 'Devon', 'differ', 'Frankly', 'becoming', '382-37', '*-154', 'subsidiary', 'New', 'and', 'Shores', 'impression', 'manufacturers', 'define', 'doing', 'force', 'La', 'accommodate', 'speaking', '*T*-244', \"'s\", 'six-month', 'Standard', 'Zayed', 'Dompierre', 'authority', 'House', 'chunk', 'Fujitsu', 'last', 'paid', 'most', 'players', 'way', 'things', 'here', 'only', 'including', 'S.', 'prominently', 'Marina', 'policy', 'covers', 'Mich.', 'smiles', 'Horsham', 'Life', 'labor', 'suspension', 'counter', 'Americans', 'Bonnell', 'Red', 'Many', 'association', 'equipment', 'declined', 'lead', 'protests', 'mechanisms', 'positions', 'Relations', 'million', '15-day', 'after', 'Colorado', 'blocks', 'sides', 'Despite', 'Georgetown', 'First', 'president', 'Science', '?', 'employees', 'demonstrators', 'yesterday', 'represented', 'disapprove', 'Mo.', 'in', 'wrongdoing', 'undiplomatic', 'controversial', 'harass', 'A.', 'W.N.', 'Williams', 'George', 'were', 'amounted', 'Palisades', 'increasingly', 'cars', 'change', '*?*', 'Lake', 'took', 'residence', 'Cutrer', 'Ronald', 'Beverly', '*-147', 'hour', 'Yet', 'toast', 'reference', 'increase', 'a', 'puts', 'trades', 'does', 'reported', 'current', 'entrants', 'citizen', 'Del.', 'exchanges', '*-162', 'just', 'Wayne', 'Ideas', 'impact', 'G.', 'Minneapolis', 'wary', 'instead', 'expressed', 'foreign-led', 'negative', 'talks', 'software', 'raised', 'York', 'Still', 'Camille', 'none', 'derivatives', 'filed', 'members', 'Colonsville', 'very', 'cause', 'outside', 'liberals', 'Labor', 'indicated', 'security-type', 'difference', 'past', 'crisis', 'occurred', 'sought', 'stock', 'over-the-counter', 'view', '<label>', 'Scott', 'Both', 'encounter', 'finance', 'Gerard', 'deeply', 'denominator', 'Why', 'Stuart', 'speaks', 'services', 'tightened', 'Among', 'U.S.', 'money', 'experience', 'clicked', 'any', 'unethical', 'we', 'Angier', 'leaders', 'opponents', 'net', 'counterrevolutionary', 'An', 'Utsumi', 'Ann', 'Tokyo', 'Ore.', 'clients', 'over', 'away', 'actively', 'whether', 'thousands', 'responded', 'Fred', 'institutions', 'Shangkun', 'emigrate', 'ability', 'computer-driven', 'losses', 'Monchecourt', 'telephone', 'volunteer', 'realize', 'details', 'insisted', 'manages', 'training-wage', 'article', 'husband', 'Rouge', 'size', 'written', 'Without', 'single', 'soon', 'end', 'Exchange', 'data', 'Vegas', 'securities', 'referred']\n",
      "\n",
      "\n",
      "actions: ['unary VBD', 'binary NX', 'unary NP', 'unary SBAR', 'binary QP', 'unary ADVP', 'unary DT', 'binary SQ', 'unary RRB', 'unary PRP', 'unary PRT', 'shift', 'unary JJR', 'binary WHADVP', 'unary WHNP', 'unary PRP$', 'unary WHADVP', 'unary JJ', 'unary $', 'unary FRAG', 'binary SBAR', 'unary NX', 'binary ADJP', 'unary RP', 'unary POS', 'unary ADJP', 'binary PP', 'unary VB', 'unary #', 'unary IN', 'unary RBR', 'unary LRB', 'unary WDT', 'unary CC', 'unary :', 'binary NP', 'unary NONE', 'unary NNPS', 'unary VBP', 'binary VP', 'binary SBARQ', 'unary .', 'unary VP', 'binary FRAG', 'unary RBS', 'unary VBZ', 'unary ``', 'unary NNP', 'binary ADVP', 'unary EX', 'shift star', 'unary NNS', 'unary CD', 'binary S', 'unary RB', \"unary ''\", 'unary NN', 'binary PRN', 'binary SINV', 'unary ,', 'unary VBG', 'unary PP', 'unary S', 'unary PDT', 'unary WRB', 'unary MD', 'unary JJS', 'unary WP', 'unary TO', 'unary VBN']\n",
      "\n",
      "\n",
      "labels: ['VBD', 'CC', 'MD', ',', 'NNS', 'PRP', '$', 'POS', 'WDT', '``', '.', 'VBN', 'NX', 'TO', '-RRB-', 'NN', 'VBG', 'RBS', 'ADJP', 'PRP$', 'WRB', 'FRAG', 'SINV', 'JJ', 'WHADVP', 'NNPS', 'QP', 'PRN', ':', 'SQ', 'RP', 'LRB', '-NONE-', 'RBR', \"''\", 'NNP', 'EX', 'VBZ', 'VBP', 'RB', 'JJS', '#', 'WP', 'S', 'CD', 'NP', '-LRB-', '<word>', 'PP', 'SBAR', 'WHNP', 'JJR', 'PRT', 'RRB', 'VP', 'VB', 'IN', 'SBARQ', 'ADVP', 'PDT', '<null>', 'NONE', 'DT']\n",
      "\n",
      "\n"
     ]
    }
   ],
   "source": [
    "vocab = Vocab(\"../data/mini/features/validation.data\")\n",
    "print(\"words: \" + str(vocab.words) + \"\\n\\n\")\n",
    "print(\"actions: \" + str(vocab.output_acts) + \"\\n\\n\")\n",
    "print(\"labels: \" + str(vocab.feat_acts) + \"\\n\\n\")"
   ]
  },
  {
   "cell_type": "code",
   "execution_count": 6,
   "metadata": {},
   "outputs": [
    {
     "name": "stdout",
     "output_type": "stream",
     "text": [
      "139361\n"
     ]
    }
   ],
   "source": [
    "print(len(pickle.load(open(\"../data/mini/features/train.data\", 'rb'))))"
   ]
  },
  {
   "cell_type": "code",
   "execution_count": null,
   "metadata": {},
   "outputs": [],
   "source": []
  }
 ],
 "metadata": {
  "kernelspec": {
   "display_name": "Python 3",
   "language": "python",
   "name": "python3"
  },
  "language_info": {
   "codemirror_mode": {
    "name": "ipython",
    "version": 3
   },
   "file_extension": ".py",
   "mimetype": "text/x-python",
   "name": "python",
   "nbconvert_exporter": "python",
   "pygments_lexer": "ipython3",
   "version": "3.4.3"
  }
 },
 "nbformat": 4,
 "nbformat_minor": 2
}
