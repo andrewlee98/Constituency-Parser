{
 "cells": [
  {
   "cell_type": "code",
   "execution_count": 5,
   "metadata": {},
   "outputs": [],
   "source": [
    "%run utils.ipynb\n",
    "import os\n",
    "import pickle\n",
    "import time"
   ]
  },
  {
   "cell_type": "code",
   "execution_count": 6,
   "metadata": {},
   "outputs": [],
   "source": [
    "def actions_to_features():\n",
    "    t0 = time.time()\n",
    "    datapath = \"../data/actions/\"\n",
    "    outpath = \"../data/features/\"\n",
    "    test = \"23\"\n",
    "    \n",
    "    train_list = []\n",
    "    test_list = []\n",
    "\n",
    "    for file in os.listdir(datapath):\n",
    "        print(file)\n",
    "        if file.startswith('.'): continue\n",
    "        # open file and save as one large string\n",
    "        data_list = pickle.load(open(datapath + file, 'rb'))\n",
    "\n",
    "         # list of lists of features\n",
    "        # final_list_read = [] # list of lists of features for debugging\n",
    "\n",
    "        final_list = []\n",
    "        for d in data_list:\n",
    "            features  = [remove_trailing(d.label)] + extract_features(d)\n",
    "            final_list.append(rearrange(features))\n",
    "#             final_list_read.append(features)\n",
    "\n",
    "\n",
    "        if file == test: test_list.extend(final_list)\n",
    "        else: train_list.extend(final_list)\n",
    "\n",
    "    with open(outpath + \"train.data\", \"wb\") as f: pickle.dump(train_list, f)\n",
    "    with open(outpath + \"test.data\", \"wb\") as f: pickle.dump(test_list, f)\n",
    "\n",
    "\n",
    "#     # write in readable form\n",
    "#     i = 1\n",
    "#     with open(outpath + \"features_read.txt\", \"w\") as f:\n",
    "#         for fl1, fl2 in zip(final_list, final_list_read):\n",
    "#             f.write(str(fl1[:12]) + \"\\n\")\n",
    "#             f.write(str(fl1[12:]) + \"\\n\\n\")\n",
    "\n",
    "#             f.write(str(fl2[0:1]) + \"\\n\")\n",
    "#             f.write(str(fl2[1:5]) + \"\\n\")\n",
    "#             f.write(str(fl2[5:11]) + \"\\n\")\n",
    "#             f.write(str(fl2[11:17]) + \"\\n\")\n",
    "#             f.write(str(fl2[17:23]) + \"\\n\")\n",
    "#             f.write(str(fl2[23:29]) + \"\\n\")\n",
    "#             i += 1\n",
    "#             if i == 5000: break\n",
    "    print(\"runtime: \" + str(time.time() - t0))\n"
   ]
  },
  {
   "cell_type": "code",
   "execution_count": 7,
   "metadata": {},
   "outputs": [
    {
     "name": "stdout",
     "output_type": "stream",
     "text": [
      ".ipynb_checkpoints\n",
      "00_actions.data\n",
      "01_actions.data\n",
      "02_actions.data\n",
      "03_actions.data\n",
      "04_actions.data\n",
      "05_actions.data\n",
      "06_actions.data\n",
      "07_actions.data\n",
      "08_actions.data\n",
      "09_actions.data\n",
      "10_actions.data\n",
      "11_actions.data\n",
      "12_actions.data\n",
      "13_actions.data\n",
      "14_actions.data\n",
      "15_actions.data\n",
      "16_actions.data\n",
      "17_actions.data\n",
      "18_actions.data\n",
      "19_actions.data\n",
      "20_actions.data\n",
      "21_actions.data\n",
      "22_actions.data\n",
      "23_actions.data\n",
      "24_actions.data\n"
     ]
    }
   ],
   "source": [
    "actions_to_features()"
   ]
  },
  {
   "cell_type": "code",
   "execution_count": null,
   "metadata": {},
   "outputs": [],
   "source": []
  }
 ],
 "metadata": {
  "kernelspec": {
   "display_name": "Python 3",
   "language": "python",
   "name": "python3"
  },
  "language_info": {
   "codemirror_mode": {
    "name": "ipython",
    "version": 3
   },
   "file_extension": ".py",
   "mimetype": "text/x-python",
   "name": "python",
   "nbconvert_exporter": "python",
   "pygments_lexer": "ipython3",
   "version": "3.4.3"
  }
 },
 "nbformat": 4,
 "nbformat_minor": 2
}
