{
 "cells": [
  {
   "cell_type": "code",
   "execution_count": 4,
   "metadata": {},
   "outputs": [],
   "source": [
    "%run utils.ipynb\n",
    "%run \"1_treebank_to_actions.ipynb\"\n",
    "%run \"2_actions_to_feature_vecs.ipynb\"\n",
    "%run \"3_create_train_network.ipynb\"\n",
    "\n",
    "import pickle\n",
    "import os\n",
    "from utils import *"
   ]
  },
  {
   "cell_type": "code",
   "execution_count": null,
   "metadata": {},
   "outputs": [
    {
     "name": "stdout",
     "output_type": "stream",
     "text": [
      "0... 100... 200... 300... 400... 500... 600... 700... 800... 900... 1000... 1100... 1200... 1300... 1400... 1500... 1600... 1700... 1800... 1900... 2000... 2100... 2200... 2300... 2400... 2500... 2600... 2700... 2800... 2900... 3000... 3100... 3200... 3300... 3400... 3500... 3600... 3700... 3800... 3900... 4000... 4100... 4200... 4300... 4400... 4500... 4600... 4700... 4800... 4900... 5000... 5100... 5200... 5300... 5400... 5500... 5600... 5700... 5800... 5900... 6000... 6100... 6200... 6300... 6400... 6500... 6600... 6700... 6800... 6900... 7000... 7100... 7200... 7300... 7400... 7500... 7600... 7700... 7800... 7900... 8000... 8100... 8200... 8300... 8400... 8500... 8600... 8700... 8800... 8900... 9000... 9100... 9200... 9300... 9400... 9500... 9600... 9700... 9800... 9900... \n"
     ]
    }
   ],
   "source": [
    "# create actions.data\n",
    "treebank_to_actions()"
   ]
  },
  {
   "cell_type": "code",
   "execution_count": 8,
   "metadata": {},
   "outputs": [
    {
     "name": "stdout",
     "output_type": "stream",
     "text": [
      "0...10000...20000...30000...40000...50000...60000...70000...80000...90000...100000...110000...120000...130000...140000...150000...160000...170000...180000...190000...200000...210000...220000...230000...240000...250000...260000...270000...280000...290000...300000...310000...320000...330000...340000...350000...360000...370000...380000...390000...400000...410000...420000...430000...440000...450000...460000...470000...480000...490000...500000...510000...520000...530000...540000...550000...560000...570000...580000...590000...600000...610000...620000...630000...640000...650000...660000...670000...680000...690000...700000...710000...720000...730000...740000...750000...760000...770000...780000...790000...\n",
      "Feature vectors: 796770\n"
     ]
    }
   ],
   "source": [
    "# create features.data\n",
    "actions_to_feature_vecs()"
   ]
  },
  {
   "cell_type": "code",
   "execution_count": null,
   "metadata": {},
   "outputs": [
    {
     "name": "stdout",
     "output_type": "stream",
     "text": [
      "started epoch 1\n",
      "current minibatch loss 4.5307111740112305 progress: 1.27 %\n",
      "current minibatch loss 4.456394672393799 progress: 2.54 %\n",
      "current minibatch loss 4.378292560577393 progress: 3.81 %\n",
      "current minibatch loss 4.3085036277771 progress: 5.08 %\n",
      "current minibatch loss 4.241814613342285 progress: 6.36 %\n",
      "current minibatch loss 4.175069332122803 progress: 7.63 %\n",
      "current minibatch loss 4.10422945022583 progress: 8.9 %\n",
      "current minibatch loss 4.073998928070068 progress: 10.17 %\n",
      "current minibatch loss 4.021841526031494 progress: 11.44 %\n",
      "current minibatch loss 3.9909424781799316 progress: 12.71 %\n",
      "current minibatch loss 3.9259777069091797 progress: 13.98 %\n",
      "current minibatch loss 3.931476593017578 progress: 15.25 %\n",
      "current minibatch loss 3.858421564102173 progress: 16.52 %\n",
      "current minibatch loss 3.8419559001922607 progress: 17.79 %\n",
      "current minibatch loss 3.8034274578094482 progress: 19.07 %\n",
      "current minibatch loss 3.8001348972320557 progress: 20.34 %\n",
      "current minibatch loss 3.674070358276367 progress: 21.61 %\n",
      "current minibatch loss 3.6566028594970703 progress: 22.88 %\n",
      "current minibatch loss 3.632387638092041 progress: 24.15 %\n",
      "current minibatch loss 3.587536573410034 progress: 25.42 %\n",
      "current minibatch loss 3.5169029235839844 progress: 26.69 %\n",
      "current minibatch loss 3.594287395477295 progress: 27.96 %\n",
      "current minibatch loss 3.498750686645508 progress: 29.23 %\n",
      "current minibatch loss 3.4626660346984863 progress: 30.5 %\n",
      "current minibatch loss 3.462270736694336 progress: 31.78 %\n",
      "current minibatch loss 3.4424405097961426 progress: 33.05 %\n",
      "current minibatch loss 3.413461208343506 progress: 34.32 %\n",
      "current minibatch loss 3.4018471240997314 progress: 35.59 %\n",
      "current minibatch loss 3.3432044982910156 progress: 36.86 %\n",
      "current minibatch loss 3.3708255290985107 progress: 38.13 %\n",
      "current minibatch loss 3.3091654777526855 progress: 39.4 %\n",
      "current minibatch loss 3.3548989295959473 progress: 40.67 %\n",
      "current minibatch loss 3.2482171058654785 progress: 41.94 %\n",
      "current minibatch loss 3.306464672088623 progress: 43.21 %\n",
      "current minibatch loss 3.1887266635894775 progress: 44.49 %\n",
      "current minibatch loss 3.2389955520629883 progress: 45.76 %\n",
      "current minibatch loss 3.179877281188965 progress: 47.03 %\n",
      "current minibatch loss 3.2342185974121094 progress: 48.3 %\n",
      "current minibatch loss 3.140289306640625 progress: 49.57 %\n",
      "current minibatch loss 3.1148195266723633 progress: 50.84 %\n",
      "current minibatch loss 3.163135290145874 progress: 52.11 %\n",
      "current minibatch loss 3.110083818435669 progress: 53.38 %\n",
      "current minibatch loss 3.0384743213653564 progress: 54.65 %\n",
      "current minibatch loss 3.050227165222168 progress: 55.92 %\n",
      "current minibatch loss 3.093451499938965 progress: 57.2 %\n",
      "current minibatch loss 2.975473403930664 progress: 58.47 %\n",
      "current minibatch loss 3.0534257888793945 progress: 59.74 %\n",
      "current minibatch loss 3.092815637588501 progress: 61.01 %\n",
      "current minibatch loss 3.0043907165527344 progress: 62.28 %\n",
      "current minibatch loss 2.8839144706726074 progress: 63.55 %\n",
      "current minibatch loss 2.9103024005889893 progress: 64.82 %\n",
      "current minibatch loss 2.9433536529541016 progress: 66.09 %\n",
      "current minibatch loss 2.9042932987213135 progress: 67.36 %\n",
      "current minibatch loss 2.8629610538482666 progress: 68.64 %\n",
      "current minibatch loss 2.8629376888275146 progress: 69.91 %\n",
      "current minibatch loss 2.8928158283233643 progress: 71.18 %\n",
      "current minibatch loss 2.807034969329834 progress: 72.45 %\n",
      "current minibatch loss 2.794175148010254 progress: 73.72 %\n",
      "current minibatch loss 2.816119909286499 progress: 74.99 %\n",
      "current minibatch loss 2.8114137649536133 progress: 76.26 %\n",
      "current minibatch loss 2.775798797607422 progress: 77.53 %\n",
      "current minibatch loss 2.87772798538208 progress: 78.8 %\n",
      "current minibatch loss 2.7634811401367188 progress: 80.07 %\n",
      "current minibatch loss 2.7987890243530273 progress: 81.35 %\n",
      "current minibatch loss 2.714752674102783 progress: 82.62 %\n",
      "current minibatch loss 2.690298318862915 progress: 83.89 %\n",
      "current minibatch loss 2.634596109390259 progress: 85.16 %\n",
      "current minibatch loss 2.6861793994903564 progress: 86.43 %\n",
      "current minibatch loss 2.7882862091064453 progress: 87.7 %\n",
      "current minibatch loss 2.717308759689331 progress: 88.97 %\n",
      "current minibatch loss 2.690734386444092 progress: 90.24 %\n",
      "current minibatch loss 2.6899757385253906 progress: 91.51 %\n",
      "current minibatch loss 2.651121139526367 progress: 92.78 %\n",
      "current minibatch loss 2.5810155868530273 progress: 94.06 %\n",
      "current minibatch loss 2.6667261123657227 progress: 95.33 %\n",
      "current minibatch loss 2.4921183586120605 progress: 96.6 %\n",
      "current minibatch loss 2.657588243484497 progress: 97.87 %\n",
      "current minibatch loss 2.638972759246826 progress: 99.14 %\n",
      "started epoch 2\n",
      "current minibatch loss 2.5848960876464844 progress: 0.51 %\n",
      "current minibatch loss 2.603163480758667 progress: 1.78 %\n",
      "current minibatch loss 2.4883811473846436 progress: 3.05 %\n",
      "current minibatch loss 2.598858118057251 progress: 4.32 %\n",
      "current minibatch loss 2.569047451019287 progress: 5.59 %\n",
      "current minibatch loss 2.500962018966675 progress: 6.86 %\n",
      "current minibatch loss 2.507739543914795 progress: 8.13 %\n",
      "current minibatch loss 2.5345051288604736 progress: 9.41 %\n",
      "current minibatch loss 2.45989727973938 progress: 10.68 %\n",
      "current minibatch loss 2.496107816696167 progress: 11.95 %\n",
      "current minibatch loss 2.491309404373169 progress: 13.22 %\n",
      "current minibatch loss 2.642193078994751 progress: 14.49 %\n"
     ]
    }
   ],
   "source": [
    "# train neural network\n",
    "train_network()"
   ]
  },
  {
   "cell_type": "markdown",
   "metadata": {},
   "source": [
    "test_moves()"
   ]
  },
  {
   "cell_type": "code",
   "execution_count": 8,
   "metadata": {},
   "outputs": [
    {
     "name": "stdout",
     "output_type": "stream",
     "text": [
      " The\n",
      " economy\n",
      " 's\n",
      " temperature\n",
      " will\n",
      " be\n",
      " taken\n",
      " from\n",
      " this\n",
      " week\n",
      " ,\n",
      " with\n",
      " readings\n",
      " on\n",
      " trade\n",
      " ,\n",
      " output\n",
      " ,\n",
      " housing\n",
      " and\n",
      " inflation\n",
      " .\n",
      " The\n",
      " troublesome\n",
      " report\n",
      " may\n",
      " be\n",
      " the\n",
      " August\n",
      " merchandise\n",
      " trade\n",
      " deficit\n",
      " due\n",
      " out\n",
      " tomorrow\n",
      " .\n",
      " (NP (NP (NNP report) (VP (NNP may) (VP (NNP be) (VP (DT the) (VP (NN August) (VP (NN merchandise) (VP (NN trade) (VP (NN deficit) (VP (NN due) (NP (NN out) (NN tomorrow))))))))))) (WDT .))\n",
      " The\n",
      " trade\n",
      " gap\n",
      " is\n",
      " expected\n",
      " to\n",
      " widen\n",
      " to\n",
      " about\n",
      " billion\n",
      " from\n",
      " July\n",
      " 's\n"
     ]
    },
    {
     "ename": "AttributeError",
     "evalue": "'NoneType' object has no attribute 'r'",
     "output_type": "error",
     "traceback": [
      "\u001b[0;31m---------------------------------------------------------------------------\u001b[0m",
      "\u001b[0;31mAttributeError\u001b[0m                            Traceback (most recent call last)",
      "\u001b[0;32m<ipython-input-8-e00d91a61691>\u001b[0m in \u001b[0;36m<module>\u001b[0;34m()\u001b[0m\n\u001b[1;32m      1\u001b[0m \u001b[0;31m# testing trees\u001b[0m\u001b[0;34m\u001b[0m\u001b[0;34m\u001b[0m\u001b[0m\n\u001b[1;32m      2\u001b[0m \u001b[0mget_ipython\u001b[0m\u001b[0;34m(\u001b[0m\u001b[0;34m)\u001b[0m\u001b[0;34m.\u001b[0m\u001b[0mrun_line_magic\u001b[0m\u001b[0;34m(\u001b[0m\u001b[0;34m'run'\u001b[0m\u001b[0;34m,\u001b[0m \u001b[0;34m'\"4_test_moves_and_trees.ipynb\"'\u001b[0m\u001b[0;34m)\u001b[0m\u001b[0;34m\u001b[0m\u001b[0m\n\u001b[0;32m----> 3\u001b[0;31m \u001b[0mtest_trees\u001b[0m\u001b[0;34m(\u001b[0m\u001b[0;34m)\u001b[0m\u001b[0;34m\u001b[0m\u001b[0m\n\u001b[0m",
      "\u001b[0;32m<ipython-input-8-4c7fe3516853>\u001b[0m in \u001b[0;36mtest_trees\u001b[0;34m()\u001b[0m\n\u001b[1;32m     87\u001b[0m                 \u001b[0;31m# cast to string and predict\u001b[0m\u001b[0;34m\u001b[0m\u001b[0;34m\u001b[0m\u001b[0m\n\u001b[1;32m     88\u001b[0m                 \u001b[0mstack\u001b[0m\u001b[0;34m,\u001b[0m \u001b[0mbuff\u001b[0m \u001b[0;34m=\u001b[0m \u001b[0mlist\u001b[0m\u001b[0;34m(\u001b[0m\u001b[0mmap\u001b[0m\u001b[0;34m(\u001b[0m\u001b[0mtree_to_str\u001b[0m\u001b[0;34m,\u001b[0m \u001b[0mstack\u001b[0m\u001b[0;34m)\u001b[0m\u001b[0;34m)\u001b[0m\u001b[0;34m,\u001b[0m \u001b[0mlist\u001b[0m\u001b[0;34m(\u001b[0m\u001b[0mmap\u001b[0m\u001b[0;34m(\u001b[0m\u001b[0mtree_to_str\u001b[0m\u001b[0;34m,\u001b[0m \u001b[0mbuff\u001b[0m\u001b[0;34m)\u001b[0m\u001b[0;34m)\u001b[0m\u001b[0;34m\u001b[0m\u001b[0m\n\u001b[0;32m---> 89\u001b[0;31m                 \u001b[0mf\u001b[0m \u001b[0;34m=\u001b[0m \u001b[0mextract_features\u001b[0m\u001b[0;34m(\u001b[0m\u001b[0mdatum\u001b[0m\u001b[0;34m(\u001b[0m\u001b[0mstack\u001b[0m\u001b[0;34m,\u001b[0m \u001b[0mbuff\u001b[0m\u001b[0;34m,\u001b[0m \u001b[0;32mNone\u001b[0m\u001b[0;34m)\u001b[0m\u001b[0;34m)\u001b[0m\u001b[0;34m\u001b[0m\u001b[0m\n\u001b[0m\u001b[1;32m     90\u001b[0m \u001b[0;34m\u001b[0m\u001b[0m\n\u001b[1;32m     91\u001b[0m                 \u001b[0mpred\u001b[0m \u001b[0;34m=\u001b[0m \u001b[0mnetwork\u001b[0m\u001b[0;34m.\u001b[0m\u001b[0mdecode\u001b[0m\u001b[0;34m(\u001b[0m\u001b[0mrearrange\u001b[0m\u001b[0;34m(\u001b[0m\u001b[0;34m[\u001b[0m\u001b[0;36m0\u001b[0m\u001b[0;34m]\u001b[0m \u001b[0;34m+\u001b[0m \u001b[0mf\u001b[0m\u001b[0;34m)\u001b[0m\u001b[0;34m[\u001b[0m\u001b[0;34m:\u001b[0m\u001b[0;34m-\u001b[0m\u001b[0;36m1\u001b[0m\u001b[0;34m]\u001b[0m\u001b[0;34m)\u001b[0m\u001b[0;34m\u001b[0m\u001b[0m\n",
      "\u001b[0;32m<ipython-input-8-22ad3308db52>\u001b[0m in \u001b[0;36mextract_features\u001b[0;34m(d)\u001b[0m\n\u001b[1;32m     25\u001b[0m             \u001b[0;32mif\u001b[0m \u001b[0mtree\u001b[0m\u001b[0;34m.\u001b[0m\u001b[0ml\u001b[0m \u001b[0;32mand\u001b[0m \u001b[0mtree\u001b[0m\u001b[0;34m.\u001b[0m\u001b[0mr\u001b[0m\u001b[0;34m:\u001b[0m \u001b[0;31m# binary rule\u001b[0m\u001b[0;34m\u001b[0m\u001b[0m\n\u001b[1;32m     26\u001b[0m                 \u001b[0;31m# assume a depth of 3 at least\u001b[0m\u001b[0;34m\u001b[0m\u001b[0;34m\u001b[0m\u001b[0m\n\u001b[0;32m---> 27\u001b[0;31m                 \u001b[0mfeatures\u001b[0m\u001b[0;34m.\u001b[0m\u001b[0mextend\u001b[0m\u001b[0;34m(\u001b[0m\u001b[0mget_left\u001b[0m\u001b[0;34m(\u001b[0m\u001b[0mtree\u001b[0m\u001b[0;34m.\u001b[0m\u001b[0ml\u001b[0m\u001b[0;34m)\u001b[0m\u001b[0;34m)\u001b[0m\u001b[0;34m\u001b[0m\u001b[0m\n\u001b[0m\u001b[1;32m     28\u001b[0m                 \u001b[0mfeatures\u001b[0m\u001b[0;34m.\u001b[0m\u001b[0mextend\u001b[0m\u001b[0;34m(\u001b[0m\u001b[0mget_right\u001b[0m\u001b[0;34m(\u001b[0m\u001b[0mtree\u001b[0m\u001b[0;34m.\u001b[0m\u001b[0mr\u001b[0m\u001b[0;34m)\u001b[0m\u001b[0;34m)\u001b[0m\u001b[0;34m\u001b[0m\u001b[0m\n\u001b[1;32m     29\u001b[0m             \u001b[0;32melse\u001b[0m\u001b[0;34m:\u001b[0m\u001b[0;34m\u001b[0m\u001b[0m\n",
      "\u001b[0;32m<ipython-input-8-101c3926ab63>\u001b[0m in \u001b[0;36mget_left\u001b[0;34m(t)\u001b[0m\n\u001b[1;32m      1\u001b[0m \u001b[0;32mdef\u001b[0m \u001b[0mget_left\u001b[0m\u001b[0;34m(\u001b[0m\u001b[0mt\u001b[0m\u001b[0;34m)\u001b[0m\u001b[0;34m:\u001b[0m\u001b[0;34m\u001b[0m\u001b[0m\n\u001b[0;32m----> 2\u001b[0;31m     \u001b[0;32mif\u001b[0m \u001b[0;32mnot\u001b[0m \u001b[0mt\u001b[0m\u001b[0;34m.\u001b[0m\u001b[0ml\u001b[0m\u001b[0;34m.\u001b[0m\u001b[0mr\u001b[0m \u001b[0;32mand\u001b[0m \u001b[0;32mnot\u001b[0m \u001b[0mt\u001b[0m\u001b[0;34m.\u001b[0m\u001b[0ml\u001b[0m\u001b[0;34m.\u001b[0m\u001b[0ml\u001b[0m\u001b[0;34m:\u001b[0m \u001b[0;31m# if l child is unary\u001b[0m\u001b[0;34m\u001b[0m\u001b[0m\n\u001b[0m\u001b[1;32m      3\u001b[0m         \u001b[0;32mreturn\u001b[0m \u001b[0;34m[\u001b[0m\u001b[0mt\u001b[0m\u001b[0;34m.\u001b[0m\u001b[0mlabel\u001b[0m\u001b[0;34m,\u001b[0m \u001b[0munindex\u001b[0m\u001b[0;34m(\u001b[0m\u001b[0mt\u001b[0m\u001b[0;34m.\u001b[0m\u001b[0ml\u001b[0m\u001b[0;34m.\u001b[0m\u001b[0mlabel\u001b[0m\u001b[0;34m)\u001b[0m\u001b[0;34m]\u001b[0m\u001b[0;34m\u001b[0m\u001b[0m\n\u001b[1;32m      4\u001b[0m     \u001b[0;32melse\u001b[0m\u001b[0;34m:\u001b[0m\u001b[0;34m\u001b[0m\u001b[0m\n\u001b[1;32m      5\u001b[0m         \u001b[0;32mreturn\u001b[0m \u001b[0mget_left\u001b[0m\u001b[0;34m(\u001b[0m\u001b[0mt\u001b[0m\u001b[0;34m.\u001b[0m\u001b[0ml\u001b[0m\u001b[0;34m)\u001b[0m\u001b[0;34m\u001b[0m\u001b[0m\n",
      "\u001b[0;31mAttributeError\u001b[0m: 'NoneType' object has no attribute 'r'"
     ]
    }
   ],
   "source": [
    "# testing trees\n",
    "%run \"4_test_moves_and_trees.ipynb\"\n",
    "test_trees()"
   ]
  },
  {
   "cell_type": "code",
   "execution_count": null,
   "metadata": {},
   "outputs": [],
   "source": []
  }
 ],
 "metadata": {
  "kernelspec": {
   "display_name": "Python 3",
   "language": "python",
   "name": "python3"
  },
  "language_info": {
   "codemirror_mode": {
    "name": "ipython",
    "version": 3
   },
   "file_extension": ".py",
   "mimetype": "text/x-python",
   "name": "python",
   "nbconvert_exporter": "python",
   "pygments_lexer": "ipython3",
   "version": "3.4.3"
  }
 },
 "nbformat": 4,
 "nbformat_minor": 2
}
