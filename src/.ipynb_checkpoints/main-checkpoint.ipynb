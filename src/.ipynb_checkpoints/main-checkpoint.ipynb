{
 "cells": [
  {
   "cell_type": "code",
   "execution_count": 3,
   "metadata": {},
   "outputs": [],
   "source": [
    "%run utils.ipynb\n",
    "%run \"1_treebank_to_actions.ipynb\"\n",
    "%run \"2_actions_to_feature_vecs.ipynb\"\n",
    "%run \"3_create_train_network.ipynb\"\n",
    "%run \"4_test_moves_and_trees.ipynb\"\n",
    "\n",
    "import pickle\n",
    "import os"
   ]
  },
  {
   "cell_type": "code",
   "execution_count": 2,
   "metadata": {},
   "outputs": [
    {
     "name": "stdout",
     "output_type": "stream",
     "text": [
      "0... 100... 200... 300... 400... 500... 600... 700... 800... 900... 1000... 1100... 1200... 1300... 1400... 1500... 1600... 1700... 1800... 1900... 2000... 2100... 2200... 2300... 2400... 2500... 2600... 2700... 2800... 2900... 3000... 3100... 3200... 3300... 3400... 3500... 3600... 3700... 3800... 3900... 4000... 4100... 4200... 4300... 4400... 4500... 4600... 4700... 4800... 4900... 5000... 5100... 5200... 5300... 5400... 5500... 5600... 5700... 5800... 5900... 6000... 6100... 6200... 6300... 6400... 6500... 6600... 6700... 6800... 6900... 7000... 7100... 7200... 7300... 7400... 7500... 7600... 7700... 7800... 7900... 8000... 8100... 8200... 8300... 8400... 8500... 8600... 8700... 8800... 8900... 9000... 9100... 9200... 9300... 9400... 9500... 9600... 9700... 9800... 9900... \n",
      "runtime: 274.4631230831146\n"
     ]
    }
   ],
   "source": [
    "# create actions.data\n",
    "treebank_to_actions()"
   ]
  },
  {
   "cell_type": "code",
   "execution_count": 3,
   "metadata": {},
   "outputs": [
    {
     "name": "stdout",
     "output_type": "stream",
     "text": [
      "0...10000...20000...30000...40000...50000...60000...70000...80000...90000...100000...110000...120000...130000...140000...150000...160000...170000...180000...190000...200000...210000...220000...230000...240000...250000...260000...270000...280000...290000...300000...310000...320000...330000...340000...350000...360000...370000...380000...390000...400000...410000...420000...430000...440000...450000...460000...470000...480000...490000...500000...510000...520000...530000...540000...550000...560000...570000...580000...590000...600000...610000...620000...630000...640000...650000...660000...670000...680000...690000...700000...710000...720000...730000...740000...750000...760000...770000...780000...790000...Feature vectors: 796770\n"
     ]
    }
   ],
   "source": [
    "# create features.data\n",
    "actions_to_feature_vecs()"
   ]
  },
  {
   "cell_type": "code",
   "execution_count": null,
   "metadata": {},
   "outputs": [],
   "source": [
    "# train neural network\n",
    "train_network()"
   ]
  },
  {
   "cell_type": "code",
   "execution_count": 2,
   "metadata": {},
   "outputs": [
    {
     "name": "stdout",
     "output_type": "stream",
     "text": [
      "accuracy: 0.7231\n",
      "----------------------------------------\n",
      "star precision: 0.6341463414634146\n",
      "star recall: 0.16049382716049382\n",
      "total stars: 162\n",
      "star F1: 0.2561576354679803\n",
      "----------------------------------------\n",
      "shift precision: 0.7373096446700508\n",
      "shift recall: 0.9481070496083551\n",
      "total shifts: 3064\n",
      "shift F1: 0.8295259851513421\n"
     ]
    }
   ],
   "source": [
    "# testing moves\n",
    "test_moves()"
   ]
  },
  {
   "cell_type": "code",
   "execution_count": null,
   "metadata": {},
   "outputs": [],
   "source": [
    "# testing trees\n",
    "test_trees()"
   ]
  }
 ],
 "metadata": {
  "kernelspec": {
   "display_name": "Python 3",
   "language": "python",
   "name": "python3"
  },
  "language_info": {
   "codemirror_mode": {
    "name": "ipython",
    "version": 3
   },
   "file_extension": ".py",
   "mimetype": "text/x-python",
   "name": "python",
   "nbconvert_exporter": "python",
   "pygments_lexer": "ipython3",
   "version": "3.4.3"
  }
 },
 "nbformat": 4,
 "nbformat_minor": 2
}
