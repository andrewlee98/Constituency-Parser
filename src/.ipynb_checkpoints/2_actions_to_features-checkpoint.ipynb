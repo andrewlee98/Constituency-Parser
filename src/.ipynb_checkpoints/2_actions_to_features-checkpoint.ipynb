{
 "cells": [
  {
   "cell_type": "code",
   "execution_count": 23,
   "metadata": {},
   "outputs": [],
   "source": [
    "%run utils.ipynb\n",
    "import pickle"
   ]
  },
  {
   "cell_type": "code",
   "execution_count": 24,
   "metadata": {},
   "outputs": [],
   "source": [
    "def actions_to_features():\n",
    "    datapath = \"../data/actions.data\"\n",
    "    outpath = \"../data/\"\n",
    "\n",
    "    # open file and save as one large string\n",
    "    data_list = pickle.load(open(datapath, 'rb'))\n",
    "\n",
    "    final_list = [] # list of lists of features\n",
    "    final_list_read = [] # list of lists of features for debugging\n",
    "    i = 0\n",
    "    for d in data_list:\n",
    "        \n",
    "        features  = [remove_trailing(d.label)] + extract_features(d)\n",
    "        final_list.append(rearrange(features))\n",
    "        final_list_read.append(features)\n",
    "        if i % 10000 == 0: print(str(i) + '...', end='', flush=True)\n",
    "        i += 1\n",
    "\n",
    "    print(\"\\nFeature vectors: \" + str(len(final_list)))\n",
    "\n",
    "    with open(outpath + \"train.data\", \"wb\") as f:\n",
    "        pickle.dump(final_list[10000:], f)\n",
    "\n",
    "    with open(outpath + \"test.data\", \"wb\") as f:\n",
    "        pickle.dump(final_list[:10000], f)\n",
    "\n",
    "    with open(outpath + \"all_features.data\", \"wb\") as f:\n",
    "        pickle.dump(final_list, f)\n",
    "\n",
    "    # write in readable form\n",
    "    i = 1\n",
    "    with open(outpath + \"features_read.txt\", \"w\") as f:\n",
    "        for fl1, fl2 in zip(final_list, final_list_read):\n",
    "            f.write(str(fl1[:12]) + \"\\n\")\n",
    "            f.write(str(fl1[12:]) + \"\\n\\n\")\n",
    "\n",
    "            f.write(str(fl2[0:1]) + \"\\n\")\n",
    "            f.write(str(fl2[1:5]) + \"\\n\")\n",
    "            f.write(str(fl2[5:11]) + \"\\n\")\n",
    "            f.write(str(fl2[11:17]) + \"\\n\")\n",
    "            f.write(str(fl2[17:23]) + \"\\n\")\n",
    "            f.write(str(fl2[23:29]) + \"\\n\")\n",
    "            i += 1\n",
    "            if i == 5000: break\n",
    "\n"
   ]
  },
  {
   "cell_type": "code",
   "execution_count": 25,
   "metadata": {},
   "outputs": [
    {
     "name": "stdout",
     "output_type": "stream",
     "text": [
      "0...10000...20000...30000...40000...50000...60000...70000...80000...90000...100000...110000...120000...130000...140000...150000...160000...170000...180000...190000...200000...210000...220000...230000...240000...250000...260000...270000...280000...290000...300000...310000...320000...330000...340000...350000...360000...370000...380000...390000...400000...410000...420000...430000...440000...450000...460000...470000...480000...490000...500000...510000...520000...530000...540000...550000...560000...570000...580000...590000...600000...610000...620000...630000...640000...650000...660000...670000...680000...690000...700000...710000...720000...730000...740000...750000...760000...770000...780000...790000...Feature vectors: 796770\n"
     ]
    }
   ],
   "source": [
    "actions_to_features()"
   ]
  },
  {
   "cell_type": "code",
   "execution_count": null,
   "metadata": {},
   "outputs": [],
   "source": []
  }
 ],
 "metadata": {
  "kernelspec": {
   "display_name": "Python 3",
   "language": "python",
   "name": "python3"
  },
  "language_info": {
   "codemirror_mode": {
    "name": "ipython",
    "version": 3
   },
   "file_extension": ".py",
   "mimetype": "text/x-python",
   "name": "python",
   "nbconvert_exporter": "python",
   "pygments_lexer": "ipython3",
   "version": "3.4.3"
  }
 },
 "nbformat": 4,
 "nbformat_minor": 2
}
